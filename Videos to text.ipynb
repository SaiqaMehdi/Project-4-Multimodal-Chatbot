{
 "cells": [
  {
   "cell_type": "markdown",
   "metadata": {},
   "source": [
    "# Download YouTube Videos as Audio"
   ]
  },
  {
   "cell_type": "code",
   "execution_count": null,
   "metadata": {},
   "outputs": [],
   "source": [
    "import yt_dlp\n",
    "import os\n",
    "# pip install ffmpeg-python\n",
    "# Set the output directory\n",
    "output_path = \"audio\"\n",
    "os.makedirs(output_path, exist_ok=True)\n",
    "\n",
    "# Define yt-dlp options and specify the path to FFmpeg explicitly\n",
    "ydl_opts = {\n",
    "    'format': 'bestaudio/best',  # Choose the best audio quality\n",
    "    'outtmpl': f'{output_path}/%(title)s.%(ext)s',  # Specify the output template\n",
    "    'postprocessors': [{\n",
    "        'key': 'FFmpegExtractAudio',\n",
    "        'preferredcodec': 'mp3',\n",
    "        'preferredquality': '192',\n",
    "    }],\n",
    "    'ffmpeg_location': r'\\C:\\Users\\s83me\\Downloads\\FFmpeg\\bin'  # Specify path to FFmpeg's bin folder\n",
    "}\n",
    "\n",
    "# Function to download audio using yt-dlp\n",
    "def download_audio_yt_dlp(video_url):\n",
    "    with yt_dlp.YoutubeDL(ydl_opts) as ydl:\n",
    "        ydl.download([video_url])\n",
    "\n",
    "# Define your video URLs\n",
    "video_urls = [\n",
    "    \"https://youtu.be/hg5_BPjJTFY\",\n",
    "    \"https://youtu.be/QMErl8l6mnw\",\n",
    "    \"https://www.youtube.com/watch?v=PyrBzUaRO88\"\n",
    "]\n",
    "\n",
    "\n",
    "# Download individual videos\n",
    "for url in video_urls:\n",
    "    print(f\"Downloading audio from {url}...\")\n",
    "    download_audio_yt_dlp(url)\n",
    "    print(f\"Downloaded audio from: {url}\")\n",
    "\n",
    "# Download all videos in a playlist\n",
    "playlist_url = \"https://www.youtube.com/playlist?list=PLlj5bsLjtj-L3vGAECzBJqTLT3uxl2hnL\"\n",
    "print(f\"Downloading playlist from {playlist_url}...\")\n",
    "with yt_dlp.YoutubeDL(ydl_opts) as ydl:\n",
    "    ydl.download([playlist_url])\n",
    "print(\"Playlist download complete.\")"
   ]
  },
  {
   "cell_type": "code",
   "execution_count": null,
   "metadata": {},
   "outputs": [],
   "source": [
    "# Download in cmd line\n",
    "\n",
    "# yt-dlp -f bestaudio --extract-audio --audio-format mp3 \"https://youtu.be/9qIMQi1E7x0?si=3yuko8ekBrygjj_-\"\n",
    "\n",
    "# yt-dlp -f bestaudio --extract-audio --audio-format mp3 --ffmpeg-location \"\\C:\\Users\\s83me\\Downloads\\FFmpeg\\bin\" \"https://youtu.be/bWfCHhm7PWk?si=DgAMA8FdePP6A5f8\""
   ]
  },
  {
   "cell_type": "markdown",
   "metadata": {},
   "source": [
    "# Transcribe Audio Files Using OpenAI Whisper API"
   ]
  },
  {
   "cell_type": "code",
   "execution_count": 10,
   "metadata": {},
   "outputs": [],
   "source": [
    "# Manually define the list of audio files in the exact order you want to transcribe\n",
    "audio_files = [\n",
    "    \"audio/1.Wuthering Heights Guide ¦ Summary & Biography of Emily Bronté Ep 1.webm\",\n",
    "    \"audio/2.Unreliable Narrators in Wuthering Heights： Nelly Dean and Lockwood ¦ WH Guide Ep.2 [9WISqpOHUo4].webm\",\n",
    "    \"audio/3.Is Wuthering Heights a Love Story？ ¦ WH Guide, Ep.3 [I95_d8Xsj78].webm\",\n",
    "    \"audio/4.Revenge, Forgiveness & Religion in Wuthering Heights ¦ WH Guide, Ep.4 [MJGZBg8mwnM].webm\",\n",
    "    \"audio/5.Nature VS Civilisation ¦ Wuthering Heights ¦ WH Guide Ep.5 [g8Gow8Sdp_0].webm\",\n",
    "    \"audio/6.Catherine Earnshaw ¦ Character Study ¦ Wuthering Heights Guide Ep.6 [Y1fetLEOEX8].webm\",\n",
    "    \"audio/7.Heathcliff ¦ Character Study ¦ Wuthering Heights Guide Ep 7 [ROGC7w5qUpg].webm\",\n",
    "    \"audio/8.Edgar & Isabella Linton ¦ Character Studies ¦ Wuthering Heights Guide Ep.8 [86PF3wnotqo].webm\",\n",
    "    \"audio/9.Cathy, Hareton, and Linton ¦ Character Studies ¦ Wuthering Heights Guide Ep 9.webm\",\n",
    "    \"audio/10.Ghosts, Magic & Witches ¦ Wuthering Heights Guide Ep 10.webm\",       \n",
    "    \"audio/WUTHERING HEIGHTS by Emily Brontë ｜ Book Review [PyrBzUaRO88].webm\",\n",
    "    \"audio/WUTHERING HEIGHTS – Structure & Narrative Technique ｜ Emily Brontë WUTHERING HEIGHTS novel analysis [hg5_BPjJTFY].webm\",\n",
    "    \"audio/How to Read Wuthering Heights by Emily Brontë (10 Tips) [QMErl8l6mnw].webm\",\n",
    "    \"audio/Wuthering Heights： Emily Brontë’s Misunderstood Masterpiece ｜ SLICE WHO ｜ FULL DOCUMENTARY [9qIMQi1E7x0].webm\"\n",
    "    \n",
    "]"
   ]
  },
  {
   "cell_type": "code",
   "execution_count": null,
   "metadata": {},
   "outputs": [],
   "source": [
    "import whisper\n",
    "import os\n",
    "\n",
    "file_path = r\"C:\\Users\\s83me\\Downloads\\Project 3 Wuthering Heights\\audio\"\n",
    "model = whisper.load_model(\"base\")\n",
    "\n",
    "# List to hold transcriptions for each file\n",
    "transcriptions = []\n",
    "\n",
    "# Transcribe each audio file in the specified folder\n",
    "for audio_file in os.listdir(file_path):\n",
    "    audio_path = os.path.join(file_path, audio_file)\n",
    "    print(f\"Transcribing {audio_path}...\")\n",
    "    result = model.transcribe(audio_path)\n",
    "    transcriptions.append((audio_path, result[\"text\"]))\n",
    "    print(f\"Transcription for {audio_path} completed.\")\n",
    "\n",
    "# Save all transcriptions to a single text file in order\n",
    "output_file = \"Ordered_Transcriptions.txt\"\n",
    "with open(output_file, \"w\", encoding=\"utf-8\") as f:\n",
    "    for file, transcription in transcriptions:\n",
    "        f.write(f\"Transcription for {os.path.basename(file)}:\\n\")\n",
    "        f.write(transcription)\n",
    "        f.write(\"\\n\" + \"=\" * 50 + \"\\n\\n\")\n",
    "\n",
    "print(f\"All transcriptions saved to {output_file}\")\n"
   ]
  }
 ],
 "metadata": {
  "kernelspec": {
   "display_name": "base",
   "language": "python",
   "name": "python3"
  },
  "language_info": {
   "codemirror_mode": {
    "name": "ipython",
    "version": 3
   },
   "file_extension": ".py",
   "mimetype": "text/x-python",
   "name": "python",
   "nbconvert_exporter": "python",
   "pygments_lexer": "ipython3",
   "version": "3.12.3"
  }
 },
 "nbformat": 4,
 "nbformat_minor": 2
}
